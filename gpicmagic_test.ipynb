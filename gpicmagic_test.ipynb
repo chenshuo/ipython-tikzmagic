{
 "cells": [
  {
   "cell_type": "code",
   "execution_count": 47,
   "id": "445c4d80-2e4b-42ce-94d3-d244e55addf9",
   "metadata": {},
   "outputs": [],
   "source": [
    "%reload_ext tikzmagic"
   ]
  },
  {
   "cell_type": "code",
   "execution_count": 52,
   "id": "7a0e1458-bb2f-4947-b7ce-135704764fb6",
   "metadata": {},
   "outputs": [
    {
     "data": {
      "image/png": "[encoded data removed]"
     },
     "metadata": {},
     "output_type": "display_data"
    }
   ],
   "source": [
    "%%gpic\n",
    "down;\n",
    "box;\n",
    "arrow \"Good\" \"\" aligned;\n",
    "ellipse \"Hello\" \"World\";"
   ]
  },
  {
   "cell_type": "code",
   "execution_count": 32,
   "id": "d92aaf06-4cfd-42d7-afdf-d6182dd1abf6",
   "metadata": {},
   "outputs": [
    {
     "data": {
      "image/png": "[encoded data removed]"
     },
     "metadata": {},
     "output_type": "display_data"
    }
   ],
   "source": [
    "%%tikz\n",
    "\\draw (0, 0) -- (1, 0);"
   ]
  },
  {
   "cell_type": "code",
   "execution_count": null,
   "id": "0f032fb1-7395-4b31-b88a-e51a631188e5",
   "metadata": {},
   "outputs": [],
   "source": []
  }
 ],
 "metadata": {
  "kernelspec": {
   "display_name": "Python 3 (ipykernel)",
   "language": "python",
   "name": "python3"
  },
  "language_info": {
   "codemirror_mode": {
    "name": "ipython",
    "version": 3
   },
   "file_extension": ".py",
   "mimetype": "text/x-python",
   "name": "python",
   "nbconvert_exporter": "python",
   "pygments_lexer": "ipython3",
   "version": "3.11.8"
  }
 },
 "nbformat": 4,
 "nbformat_minor": 5
}
